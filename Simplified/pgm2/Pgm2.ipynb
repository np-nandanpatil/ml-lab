{
 "cells": [
  {
   "cell_type": "code",
   "execution_count": 9,
   "id": "f610315b",
   "metadata": {},
   "outputs": [
    {
     "name": "stdout",
     "output_type": "stream",
     "text": [
      "Path: [(0, 0), (1, 0), (2, 0), (3, 0), (3, 1), (3, 2), (3, 3), (3, 4), (3, 5), (4, 5), (5, 5), (5, 4)]\n"
     ]
    }
   ],
   "source": [
    "def find_path(grid, start, goal):\n",
    "    rows, cols = len(grid), len(grid[0])\n",
    "    queue = [(start, [start])]  # (current_pos, path_so_far)\n",
    "    visited = {start}\n",
    "    \n",
    "    # Four directions: right, left, down, up\n",
    "    moves = [(0, 1), (0, -1), (1, 0), (-1, 0)]\n",
    "    \n",
    "    while queue:\n",
    "        (x, y), path = queue.pop(0)\n",
    "        \n",
    "        # Check if we reached the goal\n",
    "        if (x, y) == goal:\n",
    "            return path\n",
    "            \n",
    "        # Try all possible moves\n",
    "        for dx, dy in moves:\n",
    "            new_x, new_y = x + dx, y + dy\n",
    "            new_pos = (new_x, new_y)\n",
    "            \n",
    "            # Check if move is valid and not visited\n",
    "            if (0 <= new_x < rows and \n",
    "                0 <= new_y < cols and \n",
    "                grid[new_x][new_y] == 0 and\n",
    "                new_pos not in visited):\n",
    "                    \n",
    "                queue.append((new_pos, path + [new_pos]))\n",
    "                visited.add(new_pos)\n",
    "    \n",
    "    return None  # No path found\n",
    "\n",
    "# Example usage\n",
    "grid = [\n",
    "    [0, 1, 0, 0, 0, 1],\n",
    "    [0, 1, 0, 1, 0, 1],\n",
    "    [0, 1, 1, 1, 0, 1],\n",
    "    [0, 0, 0, 0, 0, 0],\n",
    "    [0, 1, 0, 0, 1, 0],\n",
    "    [1, 0, 1, 1, 0, 0]\n",
    "]\n",
    "start = (0, 0)\n",
    "goal = (5, 4)\n",
    "\n",
    "path = find_path(grid, start, goal)\n",
    "print(\"Path:\", path)"
   ]
  }
 ],
 "metadata": {
  "kernelspec": {
   "display_name": "Python 3",
   "language": "python",
   "name": "python3"
  },
  "language_info": {
   "codemirror_mode": {
    "name": "ipython",
    "version": 3
   },
   "file_extension": ".py",
   "mimetype": "text/x-python",
   "name": "python",
   "nbconvert_exporter": "python",
   "pygments_lexer": "ipython3",
   "version": "3.12.6"
  }
 },
 "nbformat": 4,
 "nbformat_minor": 5
}
