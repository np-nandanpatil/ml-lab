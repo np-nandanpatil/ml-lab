{
 "cells": [
  {
   "cell_type": "code",
   "execution_count": 2,
   "id": "ef9b824f",
   "metadata": {},
   "outputs": [
    {
     "name": "stdout",
     "output_type": "stream",
     "text": [
      "      Sky Airtemp Humidity    Wind Water Forecast WaterSport\n",
      "0   Sunny    Warm   Normal  Strong  Warm     Same        Yes\n",
      "1   Sunny    Warm     High  Strong  Warm     Same        Yes\n",
      "2  Cloudy    Cold     High  Strong  Warm   Change         No\n",
      "3   Sunny    Warm     High  Strong  Cool   Change        Yes\n",
      "Initialization of specific_h and general_h:\n",
      "Specific_h: ['Sunny' 'Warm' 'Normal' 'Strong' 'Warm' 'Same']\n",
      "General_h: [['?', '?', '?', '?', '?', '?'], ['?', '?', '?', '?', '?', '?'], ['?', '?', '?', '?', '?', '?'], ['?', '?', '?', '?', '?', '?'], ['?', '?', '?', '?', '?', '?'], ['?', '?', '?', '?', '?', '?']]\n",
      "\n",
      "Step 1:\n",
      "Specific_h: ['Sunny' 'Warm' 'Normal' 'Strong' 'Warm' 'Same']\n",
      "General_h: [['?', '?', '?', '?', '?', '?'], ['?', '?', '?', '?', '?', '?'], ['?', '?', '?', '?', '?', '?'], ['?', '?', '?', '?', '?', '?'], ['?', '?', '?', '?', '?', '?'], ['?', '?', '?', '?', '?', '?']]\n",
      "\n",
      "Step 2:\n",
      "Specific_h: ['Sunny' 'Warm' '?' 'Strong' 'Warm' 'Same']\n",
      "General_h: [['?', '?', '?', '?', '?', '?'], ['?', '?', '?', '?', '?', '?'], ['?', '?', '?', '?', '?', '?'], ['?', '?', '?', '?', '?', '?'], ['?', '?', '?', '?', '?', '?'], ['?', '?', '?', '?', '?', '?']]\n",
      "\n",
      "Step 3:\n",
      "Specific_h: ['Sunny' 'Warm' '?' 'Strong' 'Warm' 'Same']\n",
      "General_h: [['Sunny', '?', '?', '?', '?', '?'], ['?', 'Warm', '?', '?', '?', '?'], ['?', '?', '?', '?', '?', '?'], ['?', '?', '?', '?', '?', '?'], ['?', '?', '?', '?', '?', '?'], ['?', '?', '?', '?', '?', 'Same']]\n",
      "\n",
      "Step 4:\n",
      "Specific_h: ['Sunny' 'Warm' '?' 'Strong' '?' '?']\n",
      "General_h: [['Sunny', '?', '?', '?', '?', '?'], ['?', 'Warm', '?', '?', '?', '?'], ['?', '?', '?', '?', '?', '?'], ['?', '?', '?', '?', '?', '?'], ['?', '?', '?', '?', '?', '?'], ['?', '?', '?', '?', '?', '?']]\n",
      "\n",
      "Final Specific_h: ['Sunny' 'Warm' '?' 'Strong' '?' '?']\n",
      "Final General_h: [['Sunny', '?', '?', '?', '?', '?'], ['?', 'Warm', '?', '?', '?', '?']]\n"
     ]
    }
   ],
   "source": [
    "import numpy as np\n",
    "import pandas as pd\n",
    "\n",
    "# Load the dataset\n",
    "data = pd.read_csv(\"Training.csv\")\n",
    "print(data)\n",
    "concepts = np.array(data.iloc[:, :-1])  # Features\n",
    "target = np.array(data.iloc[:, -1])  # Target\n",
    "\n",
    "\n",
    "def candidate_elimination(concepts, target):\n",
    "    # Initialize the most specific hypothesis (first positive example)\n",
    "    specific_h = concepts[0].copy()\n",
    "    # Initialize the most general hypothesis (all '?')\n",
    "    general_h = [[\"?\" for _ in range(len(specific_h))]\n",
    "               for _ in range(len(specific_h))]\n",
    "\n",
    "    print(\"Initialization of specific_h and general_h:\")\n",
    "    print(\"Specific_h:\", specific_h)\n",
    "    print(\"General_h:\", general_h)\n",
    "\n",
    "    # Iterate through the training examples\n",
    "    for i, example in enumerate(concepts):\n",
    "        print(f\"\\nStep {i + 1}:\")\n",
    "        if target[i] == \"Yes\":  # Positive example\n",
    "            for x in range(len(specific_h)):\n",
    "                if example[x] != specific_h[x]:\n",
    "                    specific_h[x] = \"?\"  # Generalize specific_h\n",
    "                    general_h[x][x] = \"?\"  # Update general_h\n",
    "        elif target[i] == \"No\":  # Negative example\n",
    "            for x in range(len(specific_h)):\n",
    "                if example[x] != specific_h[x]:\n",
    "                    general_h[x][x] = specific_h[x]  # Specialize general_h\n",
    "                else:\n",
    "                    general_h[x][x] = \"?\"\n",
    "\n",
    "        print(\"Specific_h:\", specific_h)\n",
    "        print(\"General_h:\", general_h)\n",
    "\n",
    "    # Remove redundant general hypotheses\n",
    "    general_h = [g for g in general_h if any(val != \"?\" for val in g)]\n",
    "\n",
    "    return specific_h, general_h\n",
    "\n",
    "\n",
    "# Run the algorithm\n",
    "specific_h, general_h = candidate_elimination(concepts, target)\n",
    "print(\"\\nFinal Specific_h:\", specific_h)\n",
    "print(\"Final General_h:\", general_h)"
   ]
  }
 ],
 "metadata": {
  "kernelspec": {
   "display_name": "Python 3",
   "language": "python",
   "name": "python3"
  },
  "language_info": {
   "codemirror_mode": {
    "name": "ipython",
    "version": 3
   },
   "file_extension": ".py",
   "mimetype": "text/x-python",
   "name": "python",
   "nbconvert_exporter": "python",
   "pygments_lexer": "ipython3",
   "version": "3.12.6"
  }
 },
 "nbformat": 4,
 "nbformat_minor": 5
}
