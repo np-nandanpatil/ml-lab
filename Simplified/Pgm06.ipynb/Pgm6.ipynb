{
 "cells": [
  {
   "cell_type": "code",
   "execution_count": 1,
   "id": "95255f95",
   "metadata": {},
   "outputs": [
    {
     "name": "stdout",
     "output_type": "stream",
     "text": [
      "Predictions: [1 1 0 0]\n",
      "Weights: [-0.1  0. ]\n",
      "Bias: 0.0\n"
     ]
    }
   ],
   "source": [
    "import numpy as np\n",
    "\n",
    "def step_function(x): return np.where(x >= 0, 1, 0)\n",
    "\n",
    "class Perceptron:\n",
    "    def __init__(self, size, lr=0.1, epochs=1000):\n",
    "        self.w = np.zeros(size)\n",
    "        self.b = 0\n",
    "        self.lr = lr\n",
    "        self.epochs = epochs\n",
    "    def train(self, X, y):\n",
    "        for _ in range(self.epochs):\n",
    "            for xi, t in zip(X, y):\n",
    "                pred = step_function(np.dot(xi, self.w) + self.b)\n",
    "                e = t - pred\n",
    "                self.w += self.lr * e * xi\n",
    "                self.b += self.lr * e\n",
    "    def predict(self, X):\n",
    "        return step_function(np.dot(X, self.w) + self.b)\n",
    "    def get_params(self): return self.w, self.b\n",
    "\n",
    "X = np.array([[0,0],[0,1],[1,0],[1,1]])\n",
    "y = np.array([0,1,1,0])\n",
    "p = Perceptron(2, 0.1, 1000)\n",
    "p.train(X, y)\n",
    "print(\"Predictions:\", p.predict(X))\n",
    "w, b = p.get_params()\n",
    "print(\"Weights:\", w)\n",
    "print(\"Bias:\", b)"
   ]
  }
 ],
 "metadata": {
  "kernelspec": {
   "display_name": "Python 3",
   "language": "python",
   "name": "python3"
  },
  "language_info": {
   "codemirror_mode": {
    "name": "ipython",
    "version": 3
   },
   "file_extension": ".py",
   "mimetype": "text/x-python",
   "name": "python",
   "nbconvert_exporter": "python",
   "pygments_lexer": "ipython3",
   "version": "3.12.6"
  }
 },
 "nbformat": 4,
 "nbformat_minor": 5
}
