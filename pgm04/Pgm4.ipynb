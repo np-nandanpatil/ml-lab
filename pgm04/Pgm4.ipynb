{
 "cells": [
  {
   "cell_type": "code",
   "execution_count": null,
   "metadata": {},
   "outputs": [],
   "source": [
    "# got output\n",
    "import pandas as pd\n",
    "from sklearn.model_selection import train_test_split\n",
    "from sklearn.tree import DecisionTreeClassifier, plot_tree\n",
    "from sklearn.metrics import accuracy_score, classification_report\n",
    "from sklearn.preprocessing import LabelEncoder\n",
    "import matplotlib.pyplot as plt\n",
    "\n",
    "# Sample dataset representing retail sales\n",
    "data = {\n",
    "    'MARKETING_SPEND': [1500, 2300, 3200, 1800, 1200, 2500, 3500, 4000, 1700, 3000],\n",
    "    'PRODUCT_CATEGORY': ['ELECTRONICS', 'CLOTHING', 'ELECTRONICS', 'CLOTHING', 'FURNITURE', 'ELECTRONICS', 'CLOTHING', 'FURNITURE', 'ELECTRONICS', 'CLOTHING'],\n",
    "    'SEASON': ['HOLIDAY', 'REGULAR', 'HOLIDAY', 'REGULAR', 'HOLIDAY', 'REGULAR', 'HOLIDAY', 'REGULAR', 'HOLIDAY', 'REGULAR'],\n",
    "    'STORE_TYPE': ['PHYSICAL', 'ONLINE', 'PHYSICAL', 'ONLINE', 'PHYSICAL', 'ONLINE', 'PHYSICAL', 'ONLINE', 'PHYSICAL', 'ONLINE'],\n",
    "    'SALES': ['HIGH', 'LOW', 'HIGH', 'LOW', 'LOW', 'HIGH', 'HIGH', 'LOW', 'HIGH', 'LOW']\n",
    "}\n",
    "\n",
    "# Convert into a DataFrame\n",
    "df = pd.DataFrame(data)\n",
    "\n",
    "# FEATURE ENCODING (LABEL ENCODING FOR categorical data)\n",
    "lbl_encoder = LabelEncoder()\n",
    "\n",
    "df['PRODUCT_CATEGORY'] = lbl_encoder.fit_transform(df['PRODUCT_CATEGORY'])\n",
    "df['SEASON'] = lbl_encoder.fit_transform(df['SEASON'])\n",
    "df['STORE_TYPE'] = lbl_encoder.fit_transform(df['STORE_TYPE'])\n",
    "df['SALES'] = lbl_encoder.fit_transform(df['SALES'])\n",
    "\n",
    "# Split dataset into features (X) and target (Y)\n",
    "X = df.drop(['SALES'], axis=1)  # Features\n",
    "y = df['SALES']  # Target\n",
    "\n",
    "# Split data into training and test sets (80% train, 20% test)\n",
    "X_train, X_test, y_train, y_test = train_test_split(X, y, test_size=0.2, random_state=42)\n",
    "\n",
    "# Create a Decision Tree Classifier model\n",
    "model = DecisionTreeClassifier(criterion='entropy', max_depth=3, random_state=42)\n",
    "\n",
    "# Train the model\n",
    "model.fit(X_train, y_train)\n",
    "\n",
    "# Predict on the test set\n",
    "y_pred = model.predict(X_test)\n",
    "\n",
    "# Evaluate the model\n",
    "accuracy = accuracy_score(y_test, y_pred)\n",
    "print(f\"ACCURACY: {accuracy * 100:.2f}%\")\n",
    "print(\"\\nCLASSIFICATION REPORT:\")\n",
    "print(classification_report(y_test, y_pred))\n",
    "\n",
    "# VISUALIZE THE DECISION TREE\n",
    "plt.figure(figsize=(12, 12))\n",
    "plot_tree(model, filled=True, feature_names=X.columns, class_names=['LOW', 'HIGH'], rounded=True)\n",
    "plt.title(\"DECISION TREE FOR SALES PREDICTION\")\n",
    "plt.show()"
   ]
  }
 ],
 "metadata": {
  "kernelspec": {
   "display_name": "Python 3",
   "language": "python",
   "name": "python3"
  },
  "language_info": {
   "codemirror_mode": {
    "name": "ipython",
    "version": 3
   },
   "file_extension": ".py",
   "mimetype": "text/x-python",
   "name": "python",
   "nbconvert_exporter": "python",
   "pygments_lexer": "ipython3",
   "version": "3.12.6"
  }
 },
 "nbformat": 4,
 "nbformat_minor": 2
}
