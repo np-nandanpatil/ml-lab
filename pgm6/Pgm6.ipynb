{
 "cells": [
  {
   "cell_type": "code",
   "execution_count": 1,
   "id": "1856cb63",
   "metadata": {},
   "outputs": [
    {
     "name": "stdout",
     "output_type": "stream",
     "text": [
      "Predictions after training:\n",
      "[1 1 0 0]\n",
      "\n",
      "Final weights: [-0.1  0. ]\n",
      "Final bias: 0.0\n"
     ]
    }
   ],
   "source": [
    "import numpy as np\n",
    "\n",
    "def step_function(x):\n",
    "    return np.where(x >= 0, 1, 0)\n",
    "\n",
    "class SingleLayerPerceptron:\n",
    "    def __init__(self, input_size, learning_rate=0.01, epochs=1000):\n",
    "        self.input_size = input_size          # Number of input features\n",
    "        self.learning_rate = learning_rate    # Learning rate\n",
    "        self.epochs = epochs                  # Number of iterations\n",
    "        self.weights = np.zeros(input_size)   # Initialize weights to zero\n",
    "        self.bias = 0                         # Initialize bias to zero\n",
    "\n",
    "    def train(self, X, y):\n",
    "        for epoch in range(self.epochs):\n",
    "            for i in range(len(X)):\n",
    "                linear_output = np.dot(X[i], self.weights) + self.bias\n",
    "                predicted = step_function(linear_output)\n",
    "                error = y[i] - predicted\n",
    "                \n",
    "                self.weights += self.learning_rate * error * X[i]\n",
    "                self.bias += self.learning_rate * error\n",
    "\n",
    "    def predict(self, X):\n",
    "        linear_output = np.dot(X, self.weights) + self.bias\n",
    "        return step_function(linear_output)\n",
    "\n",
    "    def get_parameters(self):\n",
    "        return self.weights, self.bias\n",
    "\n",
    "if __name__ == \"__main__\":\n",
    "    X = np.array([[0, 0],\n",
    "                  [0, 1],\n",
    "                  [1, 0],\n",
    "                  [1, 1]])\n",
    "\n",
    "    y = np.array([0, 1, 1, 0])\n",
    "    perceptron = SingleLayerPerceptron(input_size=2, learning_rate=0.1, epochs=1000)\n",
    "\n",
    "    perceptron.train(X, y)\n",
    "\n",
    "    predictions = perceptron.predict(X)\n",
    "\n",
    "    print(\"Predictions after training:\")\n",
    "    print(predictions)\n",
    "\n",
    "    weights, bias = perceptron.get_parameters()\n",
    "    print(\"\\nFinal weights:\", weights)\n",
    "    print(\"Final bias:\", bias)"
   ]
  }
 ],
 "metadata": {
  "kernelspec": {
   "display_name": "Python 3",
   "language": "python",
   "name": "python3"
  },
  "language_info": {
   "codemirror_mode": {
    "name": "ipython",
    "version": 3
   },
   "file_extension": ".py",
   "mimetype": "text/x-python",
   "name": "python",
   "nbconvert_exporter": "python",
   "pygments_lexer": "ipython3",
   "version": "3.12.6"
  }
 },
 "nbformat": 4,
 "nbformat_minor": 5
}
