{
 "cells": [
  {
   "cell_type": "code",
   "execution_count": null,
   "id": "127ba66c",
   "metadata": {},
   "outputs": [],
   "source": [
    "# Program 1\n",
    "\n",
    "import numpy as np\n",
    "import pandas as pd\n",
    "\n",
    "# Load the dataset\n",
    "data = pd.read_csv(\"Training.csv\")\n",
    "print(data)\n",
    "concepts = np.array(data.iloc[:, :-1])  # Features\n",
    "target = np.array(data.iloc[:, -1])  # Target\n",
    "\n",
    "\n",
    "def candidate_elimination(concepts, target):\n",
    "    # Initialize the most specific hypothesis (first positive example)\n",
    "    specific_h = concepts[0].copy()\n",
    "    # Initialize the most general hypothesis (all '?')\n",
    "    general_h = [[\"?\" for _ in range(len(specific_h))]\n",
    "                 for _ in range(len(specific_h))]\n",
    "\n",
    "    print(\"Initialization of specific_h and general_h:\")\n",
    "    print(\"Specific_h:\", specific_h)\n",
    "    print(\"General_h:\", general_h)\n",
    "\n",
    "    # Iterate through the training examples\n",
    "    for i, example in enumerate(concepts):\n",
    "        print(f\"\\nStep {i + 1}:\")\n",
    "        if target[i] == \"Yes\":  # Positive example\n",
    "            for x in range(len(specific_h)):\n",
    "                if example[x] != specific_h[x]:\n",
    "                    specific_h[x] = \"?\"  # Generalize specific_h\n",
    "                    general_h[x][x] = \"?\"  # Update general_h\n",
    "        elif target[i] == \"No\":  # Negative example\n",
    "            for x in range(len(specific_h)):\n",
    "                if example[x] != specific_h[x]:\n",
    "                    general_h[x][x] = specific_h[x]  # Specialize general_h\n",
    "                else:\n",
    "                    general_h[x][x] = \"?\"\n",
    "\n",
    "        print(\"Specific_h:\", specific_h)\n",
    "        print(\"General_h:\", general_h)\n",
    "\n",
    "    # Remove redundant general hypotheses\n",
    "    general_h = [g for g in general_h if any(val != \"?\" for val in g)]\n",
    "\n",
    "    return specific_h, general_h\n",
    "\n",
    "\n",
    "# Run the algorithm\n",
    "specific_h, general_h = candidate_elimination(concepts, target)\n",
    "print(\"\\nFinal Specific_h:\", specific_h)\n",
    "print(\"Final General_h:\", general_h)"
   ]
  },
  {
   "cell_type": "code",
   "execution_count": null,
   "id": "8151ca48",
   "metadata": {},
   "outputs": [],
   "source": []
  }
 ],
 "metadata": {
  "language_info": {
   "name": "python"
  }
 },
 "nbformat": 4,
 "nbformat_minor": 5
}
