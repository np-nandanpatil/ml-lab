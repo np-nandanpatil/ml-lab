{
 "cells": [
  {
   "cell_type": "code",
   "execution_count": 2,
   "metadata": {},
   "outputs": [
    {
     "name": "stdout",
     "output_type": "stream",
     "text": [
      "Path: [(1, 0), (2, 0), (3, 0), (3, 1), (3, 2), (3, 3), (3, 4), (3, 5), (4, 5), (5, 5), (5, 5)]\n"
     ]
    }
   ],
   "source": [
    "import heapq\n",
    "\n",
    "def a_star(grid, start, goal):\n",
    "    # Directions for moving (right, left, down, up)\n",
    "    directions = [(0, 1), (0, -1), (1, 0), (-1, 0)]\n",
    "    \n",
    "    def heuristic(a, b):\n",
    "        return abs(a[0] - b[0]) + abs(a[1] - b[1])\n",
    "\n",
    "    def is_valid(x, y):\n",
    "        return 0 <= x < len(grid) and 0 <= y < len(grid[0]) and grid[x][y] == 0\n",
    "\n",
    "    # Priority queue (f, g, x, y)\n",
    "    open_list = [(heuristic(start, goal), 0, start[0], start[1])]\n",
    "    came_from = {}\n",
    "    g_costs = {start: 0}\n",
    "\n",
    "    while open_list:\n",
    "        _, g, x, y = heapq.heappop(open_list)\n",
    "\n",
    "        if (x, y) == goal:\n",
    "            path = []\n",
    "            while (x, y) in came_from:\n",
    "                path.append((x, y))\n",
    "                x, y = came_from[(x, y)]\n",
    "            return path[::-1] + [goal]  # Return reversed path with goal\n",
    "\n",
    "        for dx, dy in directions:\n",
    "            nx, ny = x + dx, y + dy\n",
    "\n",
    "            if not is_valid(nx, ny) or (nx, ny) in came_from:\n",
    "                continue\n",
    "\n",
    "            tentative_g = g + 1\n",
    "\n",
    "            if (nx, ny) not in g_costs or tentative_g < g_costs[(nx, ny)]:\n",
    "                g_costs[(nx, ny)] = tentative_g\n",
    "                f = tentative_g + heuristic((nx, ny), goal)\n",
    "                heapq.heappush(open_list, (f, tentative_g, nx, ny))\n",
    "                came_from[(nx, ny)] = (x, y)\n",
    "\n",
    "    return None  # No path found\n",
    "\n",
    "\n",
    "# Example Usage\n",
    "grid = [\n",
    "    [0, 1, 0, 0, 0, 1],\n",
    "    [0, 1, 0, 1, 0, 1],\n",
    "    [0, 1, 1, 1, 0, 1],\n",
    "    [0, 0, 0, 0, 0, 0],\n",
    "    [0, 1, 0, 0, 1, 0],\n",
    "    [1, 0, 1, 1, 0, 0]\n",
    "]\n",
    "start = (0, 0)\n",
    "goal = (5, 5)\n",
    "\n",
    "path = a_star(grid, start, goal)\n",
    "print(\"Path:\", path)"
   ]
  }
 ],
 "metadata": {
  "kernelspec": {
   "display_name": "Python 3",
   "language": "python",
   "name": "python3"
  },
  "language_info": {
   "codemirror_mode": {
    "name": "ipython",
    "version": 3
   },
   "file_extension": ".py",
   "mimetype": "text/x-python",
   "name": "python",
   "nbconvert_exporter": "python",
   "pygments_lexer": "ipython3",
   "version": "3.12.6"
  }
 },
 "nbformat": 4,
 "nbformat_minor": 2
}
